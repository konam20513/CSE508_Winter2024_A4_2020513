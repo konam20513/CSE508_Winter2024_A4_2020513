{
 "cells": [
  {
   "cell_type": "code",
   "execution_count": 4,
   "metadata": {},
   "outputs": [
    {
     "name": "stderr",
     "output_type": "stream",
     "text": [
      "Setting `pad_token_id` to `eos_token_id`:50256 for open-end generation.\n"
     ]
    },
    {
     "name": "stdout",
     "output_type": "stream",
     "text": [
      "Given Review Text: The Fender CD-60S Dreadnought Acoustic Guitar is a great instrument for beginners. It has a solid construction, produces a rich sound, and feels comfortable to play. However, some users have reported issues with the tuning stability.\n",
      "Given Summary: Good for beginners but has tuning stability issues.\n",
      "Generated Summary: The Fender CD-60S Dreadnought Acoustic Guitar is a great instrument for beginners. It has a solid construction, produces a rich sound, and feels comfortable to play. However, some users have reported issues with the tuning stability. i have tried several different tuners and this is by far the best tuner i have found for the price it is a\n",
      "ROUGE-1 Scores: Score(precision=0.1, recall=0.75, fmeasure=0.17647058823529416)\n",
      "ROUGE-2 Scores: Score(precision=0.03389830508474576, recall=0.2857142857142857, fmeasure=0.060606060606060594)\n",
      "ROUGE-L Scores: Score(precision=0.08333333333333333, recall=0.625, fmeasure=0.14705882352941174)\n"
     ]
    }
   ],
   "source": [
    "import torch\n",
    "from transformers import GPT2Tokenizer, GPT2LMHeadModel\n",
    "from rouge_score import rouge_scorer\n",
    "\n",
    "# Load the trained model and tokenizer\n",
    "model_path = \"model_kaggle\"\n",
    "model = GPT2LMHeadModel.from_pretrained(model_path)\n",
    "tokenizer = GPT2Tokenizer.from_pretrained('gpt2', padding_side='left')\n",
    "tokenizer.pad_token = tokenizer.eos_token\n",
    "\n",
    "# Setup device for PyTorch\n",
    "device = torch.device(\"cuda\" if torch.cuda.is_available() else \"cpu\")\n",
    "model.to(device)\n",
    "\n",
    "# Function to generate a summary for a single input\n",
    "def generate_summary(text):\n",
    "    encodings = tokenizer.encode_plus(\n",
    "        text,\n",
    "        add_special_tokens=True,\n",
    "        max_length=512,\n",
    "        return_tensors=\"pt\",\n",
    "        padding=\"max_length\",\n",
    "        truncation=True\n",
    "    )\n",
    "    inputs = encodings['input_ids'].to(device)\n",
    "    attention_mask = encodings['attention_mask'].to(device)\n",
    "\n",
    "    max_new_tokens = 25  # Adjust the number of tokens to generate\n",
    "    outputs = model.generate(\n",
    "        inputs,\n",
    "        attention_mask=attention_mask,\n",
    "        max_new_tokens=max_new_tokens,\n",
    "        num_beams=5,\n",
    "        early_stopping=True\n",
    "    )\n",
    "    summary = tokenizer.decode(outputs[0], skip_special_tokens=True)\n",
    "    return summary\n",
    "\n",
    "# Review Text and Given Summary\n",
    "review_text = \"The Fender CD-60S Dreadnought Acoustic Guitar is a great instrument for beginners. It has a solid construction, produces a rich sound, and feels comfortable to play. However, some users have reported issues with the tuning stability.\"\n",
    "actual_summary = \"Good for beginners but has tuning stability issues.\"\n",
    "\n",
    "# Generate summary\n",
    "generated_summary = generate_summary(review_text)\n",
    "\n",
    "# Compute ROUGE scores\n",
    "scorer = rouge_scorer.RougeScorer(['rouge1', 'rouge2', 'rougeL'], use_stemmer=True)\n",
    "scores = scorer.score(actual_summary, generated_summary)\n",
    "\n",
    "# Print results\n",
    "print(\"Given Review Text:\", review_text)\n",
    "print(\"Given Summary:\", actual_summary)\n",
    "print(\"Generated Summary:\", generated_summary)\n",
    "print(\"ROUGE-1 Scores:\", scores['rouge1'])\n",
    "print(\"ROUGE-2 Scores:\", scores['rouge2'])\n",
    "print(\"ROUGE-L Scores:\", scores['rougeL'])\n",
    "\n"
   ]
  }
 ],
 "metadata": {
  "kernelspec": {
   "display_name": "Python 3",
   "language": "python",
   "name": "python3"
  },
  "language_info": {
   "codemirror_mode": {
    "name": "ipython",
    "version": 3
   },
   "file_extension": ".py",
   "mimetype": "text/x-python",
   "name": "python",
   "nbconvert_exporter": "python",
   "pygments_lexer": "ipython3",
   "version": "3.10.11"
  }
 },
 "nbformat": 4,
 "nbformat_minor": 2
}
